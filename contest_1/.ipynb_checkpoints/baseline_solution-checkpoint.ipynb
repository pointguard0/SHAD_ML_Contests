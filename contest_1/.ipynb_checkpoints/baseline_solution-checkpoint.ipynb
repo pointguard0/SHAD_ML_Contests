{
 "cells": [
  {
   "cell_type": "code",
   "execution_count": 19,
   "metadata": {
    "collapsed": false
   },
   "outputs": [
    {
     "name": "stdout",
     "output_type": "stream",
     "text": [
      "Populating the interactive namespace from numpy and matplotlib\n"
     ]
    }
   ],
   "source": [
    "%pylab inline\n",
    "import numpy as np"
   ]
  },
  {
   "cell_type": "markdown",
   "metadata": {},
   "source": [
    "# Read the data"
   ]
  },
  {
   "cell_type": "markdown",
   "metadata": {},
   "source": [
    "Function for reading ECG signals from a file"
   ]
  },
  {
   "cell_type": "code",
   "execution_count": 20,
   "metadata": {
    "collapsed": false
   },
   "outputs": [],
   "source": [
    "def read_X(filename):\n",
    "    X = list()\n",
    "    with open(filename) as f:\n",
    "        while True:\n",
    "            line = f.readline()\n",
    "            if not line:\n",
    "                break\n",
    "            amplitudes = [int(x) for x in line.strip().split(',')]\n",
    "            intervals = [int(x) for x in f.readline().strip().split(',')]\n",
    "            \n",
    "            f.readline() # skip an empty line\n",
    "            X.append((amplitudes, intervals))\n",
    "    return X"
   ]
  },
  {
   "cell_type": "markdown",
   "metadata": {},
   "source": [
    "Read ECG signals of the train and test set"
   ]
  },
  {
   "cell_type": "code",
   "execution_count": 34,
   "metadata": {
    "collapsed": false
   },
   "outputs": [
    {
     "name": "stdout",
     "output_type": "stream",
     "text": [
      "900 903\n"
     ]
    }
   ],
   "source": [
    "X_train_ecg = read_X('X.train.csv')\n",
    "X_test_ecg = read_X('X.test.csv')\n",
    "print len(X_train_ecg), len(X_test_ecg)"
   ]
  },
  {
   "cell_type": "markdown",
   "metadata": {},
   "source": [
    "Read labels of the train set"
   ]
  },
  {
   "cell_type": "code",
   "execution_count": 22,
   "metadata": {
    "collapsed": false
   },
   "outputs": [
    {
     "name": "stdout",
     "output_type": "stream",
     "text": [
      "900\n"
     ]
    }
   ],
   "source": [
    "y_train = list()\n",
    "for line in open('y.train.csv'):\n",
    "    y_train.append(int(line))\n",
    "print len(y_train)"
   ]
  },
  {
   "cell_type": "markdown",
   "metadata": {},
   "source": [
    "# Create trigram representation"
   ]
  },
  {
   "cell_type": "markdown",
   "metadata": {},
   "source": [
    "Function for discretization of the ECG signals into 6 values (6 letters)"
   ]
  },
  {
   "cell_type": "code",
   "execution_count": 23,
   "metadata": {
    "collapsed": false
   },
   "outputs": [],
   "source": [
    "def discretize(X):\n",
    "    discrete = list()\n",
    "    for amps, ints in X:\n",
    "        amps = np.array(amps).astype(float)\n",
    "        ints = np.array(ints).astype(float)\n",
    "        alphas = arctan(amps / ints)\n",
    "\n",
    "        amps = diff(amps)\n",
    "        ints = diff(ints)\n",
    "        alphas = diff(alphas)\n",
    "\n",
    "        s = list()\n",
    "        for ind, r, t, a in zip(range(600), amps, ints, alphas):\n",
    "            c = 'x'\n",
    "            if r > 0 and t > 0 and a > 0:\n",
    "                c = 'a'\n",
    "            if r <= 0 and t <= 0 and a > 0:\n",
    "                c = 'b'\n",
    "            if r > 0 and t <= 0 and a > 0:\n",
    "                c = 'c'\n",
    "            if r <= 0 and t > 0 and a <= 0:\n",
    "                c = 'd'\n",
    "            if r > 0 and t > 0 and a <= 0:\n",
    "                c = 'e'\n",
    "            if r <= 0 and t <= 0 and a <= 0:\n",
    "                c = 'f'\n",
    "            if c == 'x':\n",
    "                print 'Very strange!!!', ind, r, t, a\n",
    "            s.append(c)\n",
    "\n",
    "        discrete.append(s)\n",
    "    return discrete"
   ]
  },
  {
   "cell_type": "markdown",
   "metadata": {},
   "source": [
    "Apply it to our data. RuntimeWarning is fine, because of zeros in intervals. "
   ]
  },
  {
   "cell_type": "code",
   "execution_count": 25,
   "metadata": {
    "collapsed": false
   },
   "outputs": [
    {
     "name": "stdout",
     "output_type": "stream",
     "text": [
      "900 903\n"
     ]
    },
    {
     "name": "stderr",
     "output_type": "stream",
     "text": [
      "/Users/arshakminasyan/anaconda/lib/python2.7/site-packages/ipykernel/__main__.py:6: RuntimeWarning: divide by zero encountered in divide\n"
     ]
    }
   ],
   "source": [
    "X_train_discrete = discretize(X_train_ecg)\n",
    "X_test_discrete = discretize(X_test_ecg)\n",
    "print len(X_train_discrete), len(X_test_discrete)"
   ]
  },
  {
   "cell_type": "markdown",
   "metadata": {},
   "source": [
    "Function for counting trigrams and saving it in the numpy array format"
   ]
  },
  {
   "cell_type": "code",
   "execution_count": 26,
   "metadata": {
    "collapsed": false
   },
   "outputs": [],
   "source": [
    "from collections import defaultdict\n",
    "from itertools import product\n",
    "\n",
    "def vectorize(discrete):\n",
    "    vectorized = list()\n",
    "    for element in discrete:\n",
    "        current = defaultdict(int)\n",
    "        for j in range(597):\n",
    "            current[tuple(element[j:j+3])] += 1\n",
    "\n",
    "        vect = list()\n",
    "        for a, b, c in product('abcdef', 'abcdef', 'abcdef'):\n",
    "            vect.append(current[(a, b, c)])\n",
    "        vectorized.append(vect)\n",
    "    return array(vectorized).astype(float)"
   ]
  },
  {
   "cell_type": "markdown",
   "metadata": {},
   "source": [
    "Create final train and test matrices"
   ]
  },
  {
   "cell_type": "code",
   "execution_count": 58,
   "metadata": {
    "collapsed": false
   },
   "outputs": [
    {
     "name": "stdout",
     "output_type": "stream",
     "text": [
      "(900, 216) (903, 216)\n"
     ]
    }
   ],
   "source": [
    "X_train = vectorize(X_train_discrete)\n",
    "X_test = vectorize(X_test_discrete)\n",
    "print X_train.shape, X_test.shape"
   ]
  },
  {
   "cell_type": "markdown",
   "metadata": {},
   "source": [
    "# Machine learning"
   ]
  },
  {
   "cell_type": "markdown",
   "metadata": {},
   "source": [
    "Use 5-fold crossvalidation for finding optimal K in KNN"
   ]
  },
  {
   "cell_type": "code",
   "execution_count": null,
   "metadata": {
    "collapsed": false
   },
   "outputs": [],
   "source": [
    "from sklearn.grid_search import GridSearchCV\n",
    "from sklearn.neighbors import KNeighborsClassifier as KNN\n",
    "from sklearn.metrics import roc_auc_score\n",
    "\n",
    "params = {'n_neighbors': arange(1, 200, 1)}\n",
    "for k in range(1, 100):\n",
    "    grid_searcher = GridSearchCV(KNN(),\\\n",
    "                             params, cv=k, scoring='roc_auc', n_jobs=3)\n",
    "grid_searcher.fit(X_train, y_train)\n",
    "print grid_searcher.best_score_\n",
    "print grid_searcher.best_estimator_\n",
    "print grid_searcher.best_params_\n",
    "print grid_searcher.fit_params"
   ]
  },
  {
   "cell_type": "code",
   "execution_count": null,
   "metadata": {
    "collapsed": false
   },
   "outputs": [],
   "source": [
    "print grid_searcher.best_estimator_.fit"
   ]
  },
  {
   "cell_type": "markdown",
   "metadata": {},
   "source": [
    "Function for plotting the results"
   ]
  },
  {
   "cell_type": "code",
   "execution_count": null,
   "metadata": {
    "collapsed": false
   },
   "outputs": [],
   "source": [
    "def plot_quality(grid_searcher, param_name):\n",
    "    means = []\n",
    "    stds = []\n",
    "    for elem in grid_searcher.grid_scores_:\n",
    "        means.append(mean(elem.cv_validation_scores))\n",
    "        stds.append(sqrt(var(elem.cv_validation_scores)))\n",
    "    means = array(means)\n",
    "    stds = array(stds)\n",
    "    \n",
    "    params = grid_searcher.param_grid\n",
    "    \n",
    "    figure(figsize=(8, 6))\n",
    "    plot(params[param_name], means)\n",
    "    fill_between(params[param_name], \\\n",
    "                 means + stds, means - stds, alpha = 0.3, facecolor='blue')\n",
    "    xlabel(param_name)\n",
    "    ylabel('AUC')"
   ]
  },
  {
   "cell_type": "markdown",
   "metadata": {},
   "source": [
    "Plot results"
   ]
  },
  {
   "cell_type": "code",
   "execution_count": null,
   "metadata": {
    "collapsed": false
   },
   "outputs": [],
   "source": [
    "plot_quality(grid_searcher, 'n_neighbors')"
   ]
  },
  {
   "cell_type": "markdown",
   "metadata": {},
   "source": [
    "Save the results in the proper format"
   ]
  },
  {
   "cell_type": "code",
   "execution_count": 68,
   "metadata": {
    "collapsed": false
   },
   "outputs": [],
   "source": [
    "clf = grid_searcher.best_estimator_.fit(X_train, y_train)\n",
    "results = clf.predict_proba(X_test)[:, 1]\n",
    "f = open('y.test.baseline.csv', 'w')\n",
    "print >> f, 'Id,Prediction'\n",
    "for i, result in enumerate(results):\n",
    "    print >> f, str(i+1) + ',' + str(result)\n",
    "f.close()"
   ]
  },
  {
   "cell_type": "code",
   "execution_count": null,
   "metadata": {
    "collapsed": true
   },
   "outputs": [],
   "source": []
  }
 ],
 "metadata": {
  "kernelspec": {
   "display_name": "Python 2",
   "language": "python",
   "name": "python2"
  },
  "language_info": {
   "codemirror_mode": {
    "name": "ipython",
    "version": 2
   },
   "file_extension": ".py",
   "mimetype": "text/x-python",
   "name": "python",
   "nbconvert_exporter": "python",
   "pygments_lexer": "ipython2",
   "version": "2.7.11"
  }
 },
 "nbformat": 4,
 "nbformat_minor": 0
}
